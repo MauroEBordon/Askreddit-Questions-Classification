{
 "cells": [
  {
   "cell_type": "markdown",
   "metadata": {},
   "source": [
    "# Clustering\n",
    "\n",
    "aca anotar lo q se quiere probar\n",
    "\n",
    "recordar utilizar metricas de comparación\n",
    "\n",
    "CountVectorizer, tfidf, LDA, Semantic Similarity Embeddings (BERT, Doc2Vec, FastText, WordNet)\n",
    "\n",
    "ya tengo el codigo para agregar features\n"
   ]
  },
  {
   "cell_type": "code",
   "execution_count": 15,
   "metadata": {},
   "outputs": [
    {
     "ename": "ModuleNotFoundError",
     "evalue": "No module named 'sklearn'",
     "output_type": "error",
     "traceback": [
      "\u001b[0;31m---------------------------------------------------------------------------\u001b[0m",
      "\u001b[0;31mModuleNotFoundError\u001b[0m                       Traceback (most recent call last)",
      "\u001b[0;32m<ipython-input-15-8abf2b5a53ea>\u001b[0m in \u001b[0;36m<module>\u001b[0;34m\u001b[0m\n\u001b[1;32m      2\u001b[0m \u001b[0;34m\u001b[0m\u001b[0m\n\u001b[1;32m      3\u001b[0m \u001b[0;32mimport\u001b[0m \u001b[0mpandas\u001b[0m \u001b[0;32mas\u001b[0m \u001b[0mpd\u001b[0m\u001b[0;34m\u001b[0m\u001b[0;34m\u001b[0m\u001b[0m\n\u001b[0;32m----> 4\u001b[0;31m \u001b[0;32mimport\u001b[0m \u001b[0msklearn\u001b[0m\u001b[0;34m\u001b[0m\u001b[0;34m\u001b[0m\u001b[0m\n\u001b[0m\u001b[1;32m      5\u001b[0m \u001b[0;34m\u001b[0m\u001b[0m\n\u001b[1;32m      6\u001b[0m \u001b[0mdf\u001b[0m \u001b[0;34m=\u001b[0m \u001b[0mpd\u001b[0m\u001b[0;34m.\u001b[0m\u001b[0mread_csv\u001b[0m\u001b[0;34m(\u001b[0m\u001b[0;34m\"db/features.csv\"\u001b[0m\u001b[0;34m,\u001b[0m \u001b[0mindex_col\u001b[0m\u001b[0;34m=\u001b[0m\u001b[0;36m0\u001b[0m\u001b[0;34m)\u001b[0m\u001b[0;34m\u001b[0m\u001b[0;34m\u001b[0m\u001b[0m\n",
      "\u001b[0;31mModuleNotFoundError\u001b[0m: No module named 'sklearn'"
     ]
    }
   ],
   "source": [
    "from TCA import *\n",
    "\n",
    "import pandas as pd\n",
    "\n",
    "df = pd.read_csv(\"db/features.csv\", index_col=0)\n"
   ]
  },
  {
   "cell_type": "markdown",
   "metadata": {},
   "source": [
    "## Vectorial Representations"
   ]
  },
  {
   "cell_type": "markdown",
   "metadata": {},
   "source": [
    "### CountVectorizer"
   ]
  },
  {
   "cell_type": "code",
   "execution_count": 18,
   "metadata": {},
   "outputs": [
    {
     "data": {
      "text/plain": [
       "<98182x704 sparse matrix of type '<class 'numpy.float64'>'\n",
       "\twith 338111 stored elements in Compressed Sparse Row format>"
      ]
     },
     "execution_count": 18,
     "metadata": {},
     "output_type": "execute_result"
    }
   ],
   "source": [
    "from sklearn.feature_extraction.text import CountVectorizer\n",
    "from sklearn.preprocessing import normalize\n",
    "from sklearn.feature_selection import VarianceThreshold\n",
    "\n",
    "def cv_ngrams(docs, range=(2,3), min_df=20):\n",
    "    \n",
    "    #2 y 3 ngrams, minimo 20 (no se como elegir le numero correcto)\n",
    "    cv = CountVectorizer(min_df=min_df, ngram_range=range)\n",
    "\n",
    "    \n",
    "    #Create, Normalize and Reduce \n",
    "    vspace = cv.fit_transform(docs)\n",
    "    vspace = normalize(vspace, axis=1, norm=\"max\")\n",
    "    vspace = VarianceThreshold(threshold=1e-3).fit_transform(vspace)\n",
    "\n",
    "    return vspace\n",
    "\n",
    "vs = cv_ngrams(df[\"Q\"])\n",
    "vs\n"
   ]
  },
  {
   "cell_type": "markdown",
   "metadata": {},
   "source": [
    "### Embeddings\n"
   ]
  },
  {
   "cell_type": "code",
   "execution_count": 22,
   "metadata": {},
   "outputs": [],
   "source": [
    "#First embedding\n",
    "from sklearn.cluster import KMeans\n",
    "\n",
    "kmc = KMeans(n_clusters=10, random_state=0)\n",
    "kmc.fit(X=vs)\n",
    "df[\"label1\"] = kmc.labels_"
   ]
  },
  {
   "cell_type": "code",
   "execution_count": 30,
   "metadata": {},
   "outputs": [
    {
     "name": "stdout",
     "output_type": "stream",
     "text": [
      "Cluster  1\n",
      "How spicy do you like your curries?\n",
      "What are your best crock-pot recipes?\n",
      "What harsh reality no one accepts?\n",
      "What shouldn't you put your dick in?\n",
      "What bands did you used to love but hate now?\n",
      "I'm a teacher, and I want to switch jobs...\n",
      "What's something most people hate but you love?\n",
      "What is something you regret doing?\n",
      "What do dreams mean?\n",
      "What should the 11th Commandment be?\n",
      "Cluster  2\n",
      "What is the best way to torture a ant?\n",
      "What is the best feeling of relief?\n",
      "What is the best food in the world?\n",
      "What is the best chocolate in the world?\n",
      "What is the dumbest way you've gotten injured?\n",
      "What is the worst dream you have ever had?\n",
      "What is the longest time anyone has ever slept?\n",
      "what is the best bad joke you know?\n",
      "What is the craziest deja vo moment in your life?\n",
      "Now what is the best opening song on an album?\n",
      "Cluster  3\n",
      "What was your first gaming device?\n",
      "People of Reddit what was your first job?\n",
      "What was your first roller coaster ride?\n",
      "What was your 15 minutes of fame?\n",
      "What was your worst kissing experience?\n",
      "What was your best teacher like?\n",
      "What was your childhood movie obsession?\n",
      "What was your weirdest fever dream?\n",
      "What was your childhood nickname IRL?\n",
      "What was your \"this job has gotten to me\" moment?\n",
      "Cluster  4\n",
      "What makes you special?\n",
      "What makes you self conscious?\n",
      "What Makes You Unique?\n",
      "What makes you a stupid Redditor?\n",
      "What makes you calm?\n",
      "what makes you feel extremely relaxed?\n",
      "What makes you smile?\n",
      "What makes you happy?\n",
      "What makes you really sad?\n",
      "What makes you swipe right on a Tinder profile?\n",
      "Cluster  5\n",
      "What is your 7th house?\n",
      "What is your favorite game OST?\n",
      "What is your \"I swear I'm not crazy\" thing?\n",
      "What is your guilty pleasure?\n",
      "What is your best/worst craigslist experience?\n",
      "What is your popular opinion?\n",
      "What is your most recent favorite movie.?\n",
      "Boy scouts of America, what is your story?\n",
      "What is your favorite tuna?\n",
      "What is your best dad joke?\n",
      "Cluster  6\n",
      "What are your thoughts on RuneScape Mobile?\n",
      "What are your thoughts on wet wipes after a poop?\n",
      "What are your thoughts on lolicon?\n",
      "What are your personal thoughts on marriage?\n",
      "What are your thoughts on india?\n",
      "What are your thoughts on Lollapalooza?\n",
      "What are your thoughts on Metal?\n",
      "What are your thoughts on Dr Jordan B. Peterson?\n",
      "What are your thoughts on Daphne from Scooby Doo?\n",
      "What are your thoughts on GMOs?\n",
      "Cluster  7\n",
      "What do you do when you see a speling error? Why?\n",
      "What do you collect?\n",
      "what do you love most about your country?\n",
      "What do you find alarming?\n",
      "What do you think of Nine inch nails?\n",
      "what do you want to do with your life?\n",
      "What do you own that could be in a museum?\n",
      "What do you want your coffin to look like?\n",
      "What do you think about during sex?\n",
      "Non-Indians, what do you think about India ?\n",
      "Cluster  8\n",
      "What's your FAVORITE thing about your employer?\n",
      "Hey Reddit, what’s your favorite idiom?\n",
      "What's your favorite true crime show?\n",
      "What’s your favorite Spongebob Squarepants quote?\n",
      "What’s your favorite GTA game?\n",
      "What's your favorite song from the 1980s?\n",
      "What’s your favorite song to karaoke to?\n",
      "What's your favorite beverage?\n",
      "What's your favorite subreddit and why?\n",
      "What's your favorite food?\n",
      "Cluster  9\n",
      "How do you get out of a career rut?\n",
      "How do you respond to a pandemic denier?\n",
      "how do you kill boredom?\n",
      "How do you get rid of tailgaters while driving?\n",
      "How do you cope with sadness?\n",
      "How do you stop being a miserable, lonely wretch?\n",
      "How do you eat a donut with five guys?\n",
      "How do you guys boost your confidence?\n",
      "How do you kill a syrian hamster?\n",
      "How do you celebrate your birthday?\n",
      "Cluster  10\n",
      "What's your opinion on Eminem?\n",
      "What's your weird friend/person story?\n",
      "Women Of Reddit: What's your sexual orientation?\n",
      "What's your sexual fantasy?\n",
      "Fellow Lesbians, what’s your biggest turn on?\n",
      "What’s your best dad joke?\n",
      "What’s your all time favourite tree and why?\n",
      "What's your average grocery list?\n",
      "What's your Uber rider score?\n",
      "What's your best hot tub story?\n"
     ]
    }
   ],
   "source": [
    "import random\n",
    "q_clus = [[] for i in range(10)]\n",
    "\n",
    "for sentence_id, cluster_id in enumerate(kmc.labels_):\n",
    "    q_clus[cluster_id].append(df.iloc[sentence_id].Q)\n",
    "\n",
    "for i, cluster in enumerate(q_clus):\n",
    "    print(\"Cluster \", i+1)\n",
    "    for tw in random.sample(cluster, 10):\n",
    "        print(tw)"
   ]
  },
  {
   "cell_type": "code",
   "execution_count": null,
   "metadata": {},
   "outputs": [],
   "source": [
    "#continuo viendo que funciona\n",
    "\n",
    "emb_bert = "
   ]
  }
 ],
 "metadata": {
  "kernelspec": {
   "display_name": "Python 3",
   "language": "python",
   "name": "python3"
  },
  "language_info": {
   "codemirror_mode": {
    "name": "ipython",
    "version": 3
   },
   "file_extension": ".py",
   "mimetype": "text/x-python",
   "name": "python",
   "nbconvert_exporter": "python",
   "pygments_lexer": "ipython3",
   "version": "3.8.10"
  }
 },
 "nbformat": 4,
 "nbformat_minor": 4
}
